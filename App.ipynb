{
 "cells": [
  {
   "cell_type": "code",
   "execution_count": 1,
   "id": "a9b22249-b82d-4ce5-8802-41e50495f5fd",
   "metadata": {},
   "outputs": [],
   "source": [
    "import pandas as pd\n",
    "import numpy as np\n",
    "import json\n",
    "import random"
   ]
  },
  {
   "cell_type": "code",
   "execution_count": 2,
   "id": "250f5791-756d-46a4-90b4-99757addd5c7",
   "metadata": {},
   "outputs": [],
   "source": [
    "df_customers = pd.read_csv('./customers_and_clusters.csv')\n",
    "df_clusters = pd.read_csv('./normalizados.csv')"
   ]
  },
  {
   "cell_type": "code",
   "execution_count": 3,
   "id": "ec6fefcb-1713-4138-a424-d56b84665db7",
   "metadata": {},
   "outputs": [],
   "source": [
    "def recomendar_producto_para_cluster(cluster_id: int, threshold: float = 0.01):\n",
    "    \n",
    "    with open('items_procesados.json', 'r', encoding='utf-16') as f:\n",
    "        productos = json.load(f)\n",
    "\n",
    "    cluster_row = df_clusters[df_clusters['CLUSTER'] == cluster_id].iloc[0]\n",
    "\n",
    "    prob_vector = cluster_row.drop('CLUSTER').values\n",
    "\n",
    "    ingredientes_relevantes = np.where(prob_vector >= threshold)[0]\n",
    "    prob_relevantes = prob_vector[ingredientes_relevantes]\n",
    "\n",
    "    productos_scores = []\n",
    "    for producto in productos:\n",
    "        vec = np.array(producto[\"ingredientes_vector\"])\n",
    "        ingredientes_producto = vec[ingredientes_relevantes]\n",
    "        score = np.dot(ingredientes_producto, prob_relevantes)\n",
    "        productos_scores.append((producto, score))\n",
    "\n",
    "    productos_scores = [(p, s) for p, s in productos_scores if s > 0]\n",
    "\n",
    "    if not productos_scores:\n",
    "        return {\"mensaje\": \"No hay productos compatibles con este cluster y threshold\"}\n",
    "\n",
    "    productos, scores = zip(*productos_scores)\n",
    "    scores = np.array(scores)\n",
    "    probabilidades = scores / scores.sum()\n",
    "\n",
    "    producto_seleccionado = random.choices(productos, weights=probabilidades, k=1)[0]\n",
    "\n",
    "    return producto_seleccionado"
   ]
  },
  {
   "cell_type": "code",
   "execution_count": 4,
   "id": "c85480fb-653f-45e5-9be3-cb8996840bba",
   "metadata": {},
   "outputs": [],
   "source": [
    "def mostrar_top5_ingredientes_y_recomendacion_un_cluster(cluster_id, threshold=0.01):\n",
    "    with open(\"ingredientes_unicos.json\", 'r', encoding='utf-16') as f:\n",
    "        ingredientes_unicos = json.load(f)[\"ingredientes\"]\n",
    "\n",
    "    fila = df_clusters[df_clusters['CLUSTER'] == cluster_id]\n",
    "    if fila.empty:\n",
    "        raise ValueError(f\"No se encontró el cluster con ID {cluster_id}\")\n",
    "\n",
    "    row = fila.iloc[0]\n",
    "    vector_ingredientes = row.drop('CLUSTER').values\n",
    "\n",
    "    top5_idx = np.argsort(vector_ingredientes)[-5:][::-1]\n",
    "    top5_nombres = [ingredientes_unicos[i] for i in top5_idx]\n",
    "\n",
    "    item_recomendado = recomendar_producto_para_cluster(cluster_id, threshold)['Item']\n",
    "\n",
    "    return {\n",
    "        \"cluster\": cluster_id,\n",
    "        \"ingredientes_top5\": top5_nombres,\n",
    "        \"item_recomendado\": item_recomendado\n",
    "    }"
   ]
  },
  {
   "cell_type": "code",
   "execution_count": 5,
   "id": "0d6d54b1-3fd0-4379-b923-5b507e99048f",
   "metadata": {},
   "outputs": [],
   "source": [
    "def mostrar_top5_ingredientes_y_recomendacion():\n",
    "    with open(\"ingredientes_unicos.json\", 'r', encoding='utf-16') as f:\n",
    "        ingredientes_unicos = json.load(f)[\"ingredientes\"]\n",
    "\n",
    "    resultados = []\n",
    "\n",
    "    for idx, row in df_clusters.iterrows():\n",
    "        cluster_id = row['CLUSTER']\n",
    "        vector_ingredientes = row.drop('CLUSTER').values\n",
    "        \n",
    "        top5_idx = np.argsort(vector_ingredientes)[-5:][::-1]\n",
    "        \n",
    "        top5_nombres = [ingredientes_unicos[i] for i in top5_idx]\n",
    "        \n",
    "        item_recomendado = recomendar_producto_para_cluster(cluster_id)['Item']\n",
    "        \n",
    "        resultados.append({\n",
    "            \"cluster\": cluster_id,\n",
    "            \"ingredientes_top5\": top5_nombres,\n",
    "            \"item_recomendado\": item_recomendado\n",
    "        })\n",
    "\n",
    "    return resultados"
   ]
  },
  {
   "cell_type": "code",
   "execution_count": 6,
   "id": "66f032f3-7d60-47d6-b5b0-8906779affed",
   "metadata": {},
   "outputs": [],
   "source": [
    "def agregar_recomendacion_por_usuario(user_id, threshold=0.01):\n",
    "    fila_usuario = df_customers[df_customers['customer_id'] == user_id]\n",
    "    \n",
    "    if fila_usuario.empty:\n",
    "        raise ValueError(f\"El usuario con ID {user_id} no se encuentra en df_usuarios.\")\n",
    "    \n",
    "    cluster_id = fila_usuario.iloc[0]['CLUSTER']\n",
    "    \n",
    "    cluster_row = df_clusters[df_clusters['CLUSTER'] == cluster_id]\n",
    "    if cluster_row.empty:\n",
    "        raise ValueError(f\"No se encontró el cluster {cluster_id} en df_clusters.\")\n",
    "    \n",
    "    item = recomendar_producto_para_cluster(cluster_id, threshold)\n",
    "    \n",
    "    return \"Producto: \" + item['Item'] + \"\\nIngredientes: \" + item['ingredientes']"
   ]
  },
  {
   "cell_type": "markdown",
   "id": "5b3c084e-78e2-4c85-a2e1-c157d73451db",
   "metadata": {},
   "source": [
    "## Recomendar producto para un usuario por customer id"
   ]
  },
  {
   "cell_type": "markdown",
   "id": "02abd5b6-a088-41a6-98ba-5d20020e7b82",
   "metadata": {},
   "source": [
    "**Los resultados varían ya que se recomienda con una distribución de probabilidad**"
   ]
  },
  {
   "cell_type": "code",
   "execution_count": 30,
   "id": "49b30175-93fc-4b65-8fdf-1be53139509a",
   "metadata": {},
   "outputs": [],
   "source": [
    "# Usuario a recomendar\n",
    "\n",
    "# Ejemplos:\n",
    "\n",
    "# 0000b06f-82aa-44e0-9dd4-218ebeff8cfd\n",
    "# 0000c481-e2b2-4b17-ae40-5d87b531c717\n",
    "# 00008406-922f-4c8e-bcbd-b281670c2308\n",
    "# 00008406-922f-4c8e-bcbd-b281670c2308\n",
    "\n",
    "User_id = '00008406-922f-4c8e-bcbd-b281670c2308'"
   ]
  },
  {
   "cell_type": "code",
   "execution_count": 35,
   "id": "2e47e84b-b002-48cc-825c-ad0df542a24b",
   "metadata": {},
   "outputs": [
    {
     "name": "stdout",
     "output_type": "stream",
     "text": [
      "Producto: ITEM_M3\n",
      "Ingredientes: Fire Braised Flank Steak, Green Leaf Lettuce, Corn, Black Beans, Savoy Cabbage, Feta Cheese, Red Cabbage, Tomatoes, Tortilla Strips, Red Bell Pepper, Poblano Peppers, Canola Oil, Jalapeño, Paprika, Salt, Black Pepper, Dried Rosemary\n"
     ]
    }
   ],
   "source": [
    "producto_recomendado = agregar_recomendacion_por_usuario('00008406-922f-4c8e-bcbd-b281670c2308', threshold=0.01)\n",
    "print(producto_recomendado)"
   ]
  },
  {
   "cell_type": "markdown",
   "id": "9b834d3b-b6d6-4780-8eb0-46c36894e04c",
   "metadata": {},
   "source": [
    "## Recomendar producto por cluster y los 5 ingredientes más representativos del cluster"
   ]
  },
  {
   "cell_type": "markdown",
   "id": "5caf9c3f-d49d-4876-9f67-92fcc12c55a2",
   "metadata": {},
   "source": [
    "**Los resultados varían ya que se recomienda con una distribución de probabilidad**"
   ]
  },
  {
   "cell_type": "code",
   "execution_count": 40,
   "id": "2553e71c-de2c-4e08-8bc8-807f854e848f",
   "metadata": {},
   "outputs": [
    {
     "name": "stdout",
     "output_type": "stream",
     "text": [
      "Cluster 10: ['Vanilla Extract', 'Honey', 'Salt', 'Sea Salt', 'Cane Sugar'] -> ITEM_W2\n"
     ]
    }
   ],
   "source": [
    "# Cluster a recomenda\n",
    "\n",
    "# Ejemplos:\n",
    "\n",
    "# 0\n",
    "# 6\n",
    "# 17\n",
    "# 23\n",
    "\n",
    "resultado = mostrar_top5_ingredientes_y_recomendacion_un_cluster(10)\n",
    "print(f\"Cluster {resultado['cluster']}: {resultado['ingredientes_top5']} -> {resultado['item_recomendado']}\")"
   ]
  },
  {
   "cell_type": "markdown",
   "id": "7bcccea2-6738-4ade-99c7-86495d0f688e",
   "metadata": {},
   "source": [
    "### Recomendación para todos los cluster"
   ]
  },
  {
   "cell_type": "markdown",
   "id": "10b74d26-47b1-41f8-b295-b52270c965f9",
   "metadata": {},
   "source": [
    "**Los resultados varían ya que se recomienda con una distribución de probabilidad**"
   ]
  },
  {
   "cell_type": "code",
   "execution_count": 44,
   "id": "e3764b74-2540-4d1a-9e97-ef27a745533f",
   "metadata": {},
   "outputs": [
    {
     "name": "stdout",
     "output_type": "stream",
     "text": [
      "Cluster 0.0: ['Salt', 'Water', 'Canola Oil', 'Red Cabbage', 'Green Leaf Lettuce'] -> ITEM_C\n",
      "Cluster 1.0: ['Salt', 'Canola Oil', 'Water', 'Black Pepper', 'Lemon Juice'] -> ITEM_A3\n",
      "Cluster 2.0: ['Salt', 'Sea Salt', 'Honey', 'Canola Oil', 'Vegenaise'] -> ITEM_Z3\n",
      "Cluster 3.0: ['Salt', 'Canola Oil', 'Cane Sugar', 'Trisodium Phosphate', 'Coffee'] -> ITEM_Q\n",
      "Cluster 4.0: ['Salt', 'Water', 'Chia Seeds', 'Vanilla Extract', 'Coconut Milk'] -> ITEM_N2\n",
      "Cluster 5.0: ['Salt', 'Canola Oil', 'Yellow Onion', 'Hard Boiled Eggs', 'Chicken Breast'] -> ITEM_W2\n",
      "Cluster 6.0: ['Salt', 'Canola Oil', 'Red Cabbage', 'Savoy Cabbage', 'Corn'] -> ITEM_Z2\n",
      "Cluster 7.0: ['Salt', 'Sea Salt', 'Water', 'High Oleic Sunflower Oil and/or Safflower Oil and/or Canola Oil', 'Stone Ground Corn'] -> ITEM_Y\n",
      "Cluster 8.0: ['Vanilla Extract', 'Honey', 'Dark Chocolate', 'Sunflower Oil', 'Almond Butter'] -> ITEM_I1\n",
      "Cluster 9.0: ['Salt', 'Black Pepper', 'Water', 'Red Onion', 'Vanilla Extract'] -> ITEM_M2\n",
      "Cluster 10.0: ['Vanilla Extract', 'Honey', 'Salt', 'Sea Salt', 'Cane Sugar'] -> ITEM_L3\n",
      "Cluster 11.0: ['Salt', 'Red Cabbage', 'Canola Oil', 'Chicken Breast', 'Black Pepper'] -> ITEM_I1\n",
      "Cluster 12.0: ['Salt', 'Water', 'Black Beans', 'Vanilla Extract', 'Coconut Milk'] -> ITEM_B2\n",
      "Cluster 13.0: ['Salt', 'Water', 'Black Pepper', 'Canola Oil', 'Green Leaf Lettuce'] -> ITEM_E1\n",
      "Cluster 14.0: ['Salt', 'Cane Sugar', 'Trisodium Phosphate', 'Acacia', 'Disodium Phosphate'] -> ITEM_O3\n",
      "Cluster 15.0: ['Salt', 'Canola Oil', 'Water', 'Black Pepper', 'Green Leaf Lettuce'] -> ITEM_E\n",
      "Cluster 16.0: ['Salt', 'Vanilla Extract', 'Honey', 'Dark Chocolate', 'Water'] -> ITEM_A4\n",
      "Cluster 17.0: ['Cane Sugar', 'Acacia', 'Trisodium Phosphate', 'Disodium Phosphate', 'Coffee'] -> ITEM_E\n",
      "Cluster 18.0: ['Salt', 'Canola Oil', 'Cooked Quinoa', 'Red Cabbage', 'Black Pepper'] -> ITEM_D1\n",
      "Cluster 19.0: ['Salt', 'Red Cabbage', 'Canola Oil', 'Lime Juice', 'Water'] -> ITEM_G3\n",
      "Cluster 20.0: ['Salt', 'Sea Salt', 'High Oleic Sunflower Oil and/or Safflower Oil and/or Canola Oil', 'Stone Ground Corn', 'Brown Rice Flour'] -> ITEM_V3\n",
      "Cluster 21.0: ['Salt', 'Water', 'Canola Oil', 'Green Leaf Lettuce', 'Butter'] -> ITEM_D4\n",
      "Cluster 22.0: ['Salt', 'Canola Oil', 'Water', 'Electrolytes', 'Purified Water'] -> ITEM_V2\n",
      "Cluster 23.0: ['Salt', 'Canola Oil', 'Red Cabbage', 'Black Pepper', 'Chicken Breast'] -> ITEM_G3\n",
      "Cluster 24.0: ['Salt', 'Carbonated Water', 'Lime Juice', 'Canola Oil', 'Water'] -> ITEM_E1\n",
      "Cluster 25.0: ['Acacia', 'Trisodium Phosphate', 'Cane Sugar', 'Coffee', 'Disodium Phosphate'] -> ITEM_G2\n",
      "Cluster 26.0: ['Salt', 'Canola Oil', 'Water', 'Sugar', 'Black Pepper'] -> ITEM_W3\n",
      "Cluster 27.0: ['Salt', 'Chicken Breast', 'Sea Salt', 'Canola Oil', 'Organic Almonds'] -> ITEM_G3\n",
      "Cluster 28.0: ['Salt', 'Dark Chocolate', 'Red Onion', 'Vanilla Extract', 'Cooked Quinoa'] -> ITEM_B2\n",
      "Cluster 29.0: ['Salt', 'Honey', 'Vanilla Extract', 'Almonds', 'Water'] -> ITEM_D3\n",
      "Cluster 30.0: ['Greek Yogurt', 'Salt', 'Honey', 'Brined Apples', 'Blueberries'] -> ITEM_V2\n",
      "Cluster 31.0: ['Salt', 'Canola Oil', 'Water', 'Green Leaf Lettuce', 'Black Pepper'] -> ITEM_Z3\n",
      "Cluster 32.0: ['Salt', 'Water', 'Canola Oil', 'Cooked Quinoa', 'Red Cabbage'] -> ITEM_X2\n",
      "Cluster 33.0: ['Salt', 'Water', 'Canola Oil', 'Green Leaf Lettuce', 'Black Pepper'] -> ITEM_T1\n",
      "Cluster 34.0: ['Salt', 'Green Leaf Lettuce', 'Red Cabbage', 'Canola Oil', 'Black Pepper'] -> ITEM_F\n",
      "Cluster 35.0: ['Salt', 'Canola Oil', 'Red Cabbage', 'Red Onion', 'Cooked Quinoa'] -> ITEM_R1\n",
      "Cluster 36.0: ['Salt', 'Vanilla Extract', 'Honey', 'Water', 'Canola Oil'] -> ITEM_Y2\n",
      "Cluster 37.0: ['Salt', 'Canola Oil', 'Arcadian Lettuce', 'Red Cabbage', 'Lemon Juice'] -> ITEM_C4\n",
      "Cluster 38.0: ['Honey', 'Greek Yogurt', 'Vanilla Bean Paste', 'Brined Apples', 'Blueberries'] -> ITEM_D3\n",
      "Cluster 39.0: ['Salt', 'Canola Oil', 'Water', 'Black Pepper', 'Red Bell Pepper'] -> ITEM_I1\n",
      "Cluster 40.0: ['Salt', 'Canola Oil', 'Red Cabbage', 'Water', 'Red Onion'] -> ITEM_O2\n",
      "Cluster 41.0: ['Salt', 'Canola Oil', 'Water', 'Black Pepper', 'Chicken Breast'] -> ITEM_A1\n",
      "Cluster 42.0: ['Salt', 'Canola Oil', 'Black Pepper', 'Red Cabbage', 'Lime Juice'] -> ITEM_M3\n",
      "Cluster 43.0: ['Salt', 'Green Leaf Lettuce', 'Canola Oil', 'Red Cabbage', 'Cooked Quinoa'] -> ITEM_Z3\n"
     ]
    }
   ],
   "source": [
    "resultados = mostrar_top5_ingredientes_y_recomendacion()\n",
    "for r in resultados:\n",
    "    print(f\"Cluster {r['cluster']}: {r['ingredientes_top5']} -> {r['item_recomendado']}\")"
   ]
  },
  {
   "cell_type": "code",
   "execution_count": null,
   "id": "e5383cc7-1729-4236-bffb-630bf0a02898",
   "metadata": {},
   "outputs": [],
   "source": []
  }
 ],
 "metadata": {
  "kernelspec": {
   "display_name": "Python 3 (ipykernel)",
   "language": "python",
   "name": "python3"
  },
  "language_info": {
   "codemirror_mode": {
    "name": "ipython",
    "version": 3
   },
   "file_extension": ".py",
   "mimetype": "text/x-python",
   "name": "python",
   "nbconvert_exporter": "python",
   "pygments_lexer": "ipython3",
   "version": "3.12.9"
  }
 },
 "nbformat": 4,
 "nbformat_minor": 5
}
