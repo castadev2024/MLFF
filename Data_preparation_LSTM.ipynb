{
 "cells": [
  {
   "cell_type": "code",
   "execution_count": 1,
   "id": "d5c7f68c-7374-4268-afa8-370e4537a66e",
   "metadata": {},
   "outputs": [],
   "source": [
    "import pandas as pd\n",
    "import numpy as np\n",
    "import json\n",
    "import ast\n",
    "from tqdm import tqdm"
   ]
  },
  {
   "cell_type": "code",
   "execution_count": 3,
   "id": "b73d2a85-78de-4142-a4fe-a8aa47db59d7",
   "metadata": {},
   "outputs": [
    {
     "name": "stdout",
     "output_type": "stream",
     "text": [
      "Datos de clientes cargados: 129007 registros\n",
      "                         FF_CUSTOMER_ID  order_count  \\\n",
      "0  000097e7-b84f-4517-a8a7-59faa7d4c7ef            5   \n",
      "1  0001595a-e2f7-4578-8dc9-c0884a667e38           30   \n",
      "\n",
      "                                              orders  \n",
      "0  [{'order_id': 'csbkab', 'cart': \"{'ITEM_B1': 1...  \n",
      "1  [{'order_id': 'efrr2x', 'cart': \"{'ITEM_S1': 1...  \n",
      "Datos de items cargados: 109 items\n",
      "dict_keys(['Item', 'itemName', 'ingredientes', 'ingredientes_vector', 'itemName_vector'])\n"
     ]
    }
   ],
   "source": [
    "# Asegúrate de ajustar la ruta al archivo según sea necesario\n",
    "df_clientes = pd.read_csv('clientes_5_o_mas_pedidos.csv')\n",
    "print(f\"Datos de clientes cargados: {df_clientes.shape[0]} registros\")\n",
    "print(df_clientes.head(2))\n",
    "\n",
    "# Cargar el JSON de items y sus vectores\n",
    "with open('items_procesados_utf8.json', 'r') as f:\n",
    "    items_data = json.load(f)\n",
    "print(f\"Datos de items cargados: {len(items_data)} items\")\n",
    "print(items_data[0].keys())"
   ]
  },
  {
   "cell_type": "code",
   "execution_count": 4,
   "id": "0a0eb0c0-1272-46b3-b20a-b06a9a2932dc",
   "metadata": {},
   "outputs": [
    {
     "name": "stdout",
     "output_type": "stream",
     "text": [
      "Longitud de los vectores de ingredientes: 342\n",
      "Mapeo de items a vectores creado para 109 items\n"
     ]
    }
   ],
   "source": [
    "# Crear un diccionario para mapear cada item a su vector\n",
    "item_to_vector = {}\n",
    "vector_length = len(items_data[0][\"ingredientes_vector\"])\n",
    "print(f\"Longitud de los vectores de ingredientes: {vector_length}\")\n",
    "\n",
    "for item in items_data:\n",
    "    item_id = item[\"Item\"]\n",
    "    vector = item[\"ingredientes_vector\"]\n",
    "    item_to_vector[item_id] = vector\n",
    "\n",
    "print(f\"Mapeo de items a vectores creado para {len(item_to_vector)} items\")"
   ]
  },
  {
   "cell_type": "code",
   "execution_count": 5,
   "id": "6739e44e-fcdc-400c-a74b-0bcaf8730686",
   "metadata": {},
   "outputs": [],
   "source": [
    "def parse_cart(cart_str):\n",
    "    \"\"\"\n",
    "    Convierte el string del carrito en un diccionario\n",
    "    \"\"\"\n",
    "    try:\n",
    "        return ast.literal_eval(cart_str)\n",
    "    except (SyntaxError, ValueError):\n",
    "        print(f\"Error al parsear: {cart_str}\")\n",
    "        return {}"
   ]
  },
  {
   "cell_type": "code",
   "execution_count": 6,
   "id": "0fc2f8bd-e084-4b3d-bd08-44fcf643e18e",
   "metadata": {},
   "outputs": [],
   "source": [
    "def get_item_vectors(cart, item_to_vector):\n",
    "    \"\"\"\n",
    "    Obtiene los vectores para cada item en el carrito\n",
    "    \"\"\"\n",
    "    items_vectors = []\n",
    "    for item_id, quantity in cart.items():\n",
    "        base_item = item_id.split('_')[0] + '_' + item_id.split('_')[1]\n",
    "        if base_item in item_to_vector:\n",
    "            items_vectors.append(item_to_vector[base_item])\n",
    "        else:\n",
    "            print(f\"Item no encontrado: {base_item}\")\n",
    "    return items_vectors"
   ]
  },
  {
   "cell_type": "code",
   "execution_count": 7,
   "id": "80424248-ed0f-4a82-ab85-3c13956b0071",
   "metadata": {},
   "outputs": [],
   "source": [
    "def combine_vectors(vectors):\n",
    "    \"\"\"\n",
    "    Combina múltiples vectores en uno solo, \n",
    "    donde cualquier valor positivo se convierte en 1\n",
    "    \"\"\"\n",
    "    if not vectors:\n",
    "        return [0] * vector_length\n",
    "    \n",
    "    combined = np.sum(vectors, axis=0)\n",
    "    return [1 if x > 0 else 0 for x in combined]"
   ]
  },
  {
   "cell_type": "code",
   "execution_count": 8,
   "id": "823ebe7e-1dba-49e1-9211-60f91af952f8",
   "metadata": {},
   "outputs": [],
   "source": [
    "result_df = pd.DataFrame(columns=['FF_CUSTOMER_ID', 'orders'])"
   ]
  },
  {
   "cell_type": "code",
   "execution_count": 9,
   "id": "34a96e67-8d8a-40fa-a192-bef0bbbaa0e4",
   "metadata": {},
   "outputs": [
    {
     "name": "stderr",
     "output_type": "stream",
     "text": [
      "100%|██████████████████████████████████| 129007/129007 [09:32<00:00, 225.46it/s]"
     ]
    },
    {
     "name": "stdout",
     "output_type": "stream",
     "text": [
      "Datos transformados: 129007 clientes procesados\n",
      "                         FF_CUSTOMER_ID  \\\n",
      "0  000097e7-b84f-4517-a8a7-59faa7d4c7ef   \n",
      "1  0001595a-e2f7-4578-8dc9-c0884a667e38   \n",
      "\n",
      "                                              orders  \n",
      "0  [[0, 0, 0, 1, 0, 0, 0, 0, 0, 0, 0, 0, 0, 0, 0,...  \n",
      "1  [[0, 0, 0, 0, 0, 0, 0, 0, 0, 0, 0, 0, 0, 0, 0,...  \n"
     ]
    },
    {
     "name": "stderr",
     "output_type": "stream",
     "text": [
      "\n"
     ]
    }
   ],
   "source": [
    "# Procesar cada cliente\n",
    "for _, row in tqdm(df_clientes.iterrows(), total=df_clientes.shape[0]):\n",
    "    customer_id = row['FF_CUSTOMER_ID']\n",
    "    orders_list = ast.literal_eval(row['orders']) if isinstance(row['orders'], str) else row['orders']\n",
    "    \n",
    "    # Lista para almacenar los vectores binarios de cada orden\n",
    "    order_vectors = []\n",
    "    \n",
    "    for order in orders_list:\n",
    "        cart_str = order['cart']\n",
    "        cart_dict = parse_cart(cart_str)\n",
    "        \n",
    "        # Obtener vectores para los items en el carrito\n",
    "        item_vectors = get_item_vectors(cart_dict, item_to_vector)\n",
    "        \n",
    "        # Combinar los vectores en uno solo\n",
    "        order_vector = combine_vectors(item_vectors)\n",
    "        order_vectors.append(order_vector)\n",
    "    \n",
    "    # Añadir el resultado al DataFrame\n",
    "    result_df = result_df._append({\n",
    "        'FF_CUSTOMER_ID': customer_id,\n",
    "        'orders': order_vectors\n",
    "    }, ignore_index=True)\n",
    "\n",
    "print(f\"Datos transformados: {result_df.shape[0]} clientes procesados\")\n",
    "print(result_df.head(2))"
   ]
  },
  {
   "cell_type": "code",
   "execution_count": 10,
   "id": "d0dc3db0-4038-4ac1-a45c-ef5349e1ca65",
   "metadata": {},
   "outputs": [
    {
     "name": "stdout",
     "output_type": "stream",
     "text": [
      "Datos guardados exitosamente en 'clientes_vectores_binarios.csv'\n"
     ]
    }
   ],
   "source": [
    "# Guardar el DataFrame resultante\n",
    "result_df.to_csv('clientes_vectores_binarios.csv', index=False)\n",
    "print(\"Datos guardados exitosamente en 'clientes_vectores_binarios.csv'\")"
   ]
  },
  {
   "cell_type": "code",
   "execution_count": 11,
   "id": "54181d85-e973-4eb7-b253-53bf7b571cb2",
   "metadata": {},
   "outputs": [
    {
     "name": "stdout",
     "output_type": "stream",
     "text": [
      "\n",
      "Ejemplo de cliente:\n",
      "ID: 000097e7-b84f-4517-a8a7-59faa7d4c7ef\n",
      "Número de órdenes: 5\n",
      "Ejemplo de vector de la primera orden (primeros 10 elementos): [0, 0, 0, 1, 0, 0, 0, 0, 0, 0]\n",
      "Suma de elementos en el vector: 9\n",
      "Número de ingredientes representados: 9\n"
     ]
    }
   ],
   "source": [
    "# Mostrar un ejemplo de los datos de un cliente\n",
    "if result_df.shape[0] > 0:\n",
    "    sample_customer = result_df.iloc[0]\n",
    "    print(\"\\nEjemplo de cliente:\")\n",
    "    print(f\"ID: {sample_customer['FF_CUSTOMER_ID']}\")\n",
    "    print(f\"Número de órdenes: {len(sample_customer['orders'])}\")\n",
    "    \n",
    "    if len(sample_customer['orders']) > 0:\n",
    "        print(f\"Ejemplo de vector de la primera orden (primeros 10 elementos): {sample_customer['orders'][0][:10]}\")\n",
    "        print(f\"Suma de elementos en el vector: {sum(sample_customer['orders'][0])}\")\n",
    "        print(f\"Número de ingredientes representados: {sum(sample_customer['orders'][0])}\")"
   ]
  },
  {
   "cell_type": "code",
   "execution_count": 13,
   "id": "91858c71-9607-430e-97f3-b460b9341539",
   "metadata": {},
   "outputs": [
    {
     "data": {
      "text/plain": [
       "FF_CUSTOMER_ID                 000097e7-b84f-4517-a8a7-59faa7d4c7ef\n",
       "orders            [[0, 0, 0, 1, 0, 0, 0, 0, 0, 0, 0, 0, 0, 0, 0,...\n",
       "Name: 0, dtype: object"
      ]
     },
     "execution_count": 13,
     "metadata": {},
     "output_type": "execute_result"
    }
   ],
   "source": [
    "result_df.iloc[0]"
   ]
  },
  {
   "cell_type": "code",
   "execution_count": null,
   "id": "1a36667d-9efc-45e1-bade-89ffa9767d29",
   "metadata": {},
   "outputs": [],
   "source": []
  }
 ],
 "metadata": {
  "kernelspec": {
   "display_name": "Python 3 (ipykernel)",
   "language": "python",
   "name": "python3"
  },
  "language_info": {
   "codemirror_mode": {
    "name": "ipython",
    "version": 3
   },
   "file_extension": ".py",
   "mimetype": "text/x-python",
   "name": "python",
   "nbconvert_exporter": "python",
   "pygments_lexer": "ipython3",
   "version": "3.12.3"
  }
 },
 "nbformat": 4,
 "nbformat_minor": 5
}
